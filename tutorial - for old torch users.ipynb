{
 "cells": [
  {
   "cell_type": "code",
   "execution_count": 1,
   "metadata": {},
   "outputs": [],
   "source": [
    "import torch"
   ]
  },
  {
   "cell_type": "code",
   "execution_count": 3,
   "metadata": {
    "collapsed": true
   },
   "outputs": [],
   "source": [
    "a = torch.FloatTensor(5, 7)"
   ]
  },
  {
   "cell_type": "code",
   "execution_count": 7,
   "metadata": {},
   "outputs": [
    {
     "name": "stdout",
     "output_type": "stream",
     "text": [
      "\n",
      "-1.3007  1.0233  1.2075  0.4525  1.1102 -0.5570  0.2144\n",
      "-1.7278  1.2927  0.5682  0.8359 -0.1502  1.4994  0.9106\n",
      "-0.8273  2.3402 -0.1244 -0.2887  0.0255 -0.0606 -0.0011\n",
      " 1.3987  0.8899 -0.8892  0.0365  0.6302 -0.8222 -1.7192\n",
      "-0.2919  1.4409  2.4120  0.3545 -0.9909 -0.2167  1.8016\n",
      "[torch.FloatTensor of size 5x7]\n",
      "\n"
     ]
    }
   ],
   "source": [
    "a = torch.randn(5,7)\n",
    "print(a)"
   ]
  },
  {
   "cell_type": "code",
   "execution_count": 10,
   "metadata": {},
   "outputs": [
    {
     "name": "stdout",
     "output_type": "stream",
     "text": [
      "\n",
      " 3.5000  3.5000  3.5000  3.5000  3.5000  3.5000  3.5000\n",
      " 3.5000  3.5000  3.5000  3.5000  3.5000  3.5000  3.5000\n",
      " 3.5000  3.5000  3.5000  3.5000  3.5000  3.5000  3.5000\n",
      " 3.5000  3.5000  3.5000  3.5000  3.5000  3.5000  3.5000\n",
      " 3.5000  3.5000  3.5000  3.5000  3.5000  3.5000  3.5000\n",
      "[torch.FloatTensor of size 5x7]\n",
      "\n"
     ]
    }
   ],
   "source": [
    "a.fill_(3.5)\n",
    "print(a)"
   ]
  },
  {
   "cell_type": "code",
   "execution_count": 12,
   "metadata": {},
   "outputs": [
    {
     "data": {
      "text/plain": [
       "\n",
       " 7.5000  7.5000  7.5000  7.5000  7.5000  7.5000  7.5000\n",
       " 7.5000  7.5000  7.5000  7.5000  7.5000  7.5000  7.5000\n",
       " 7.5000  7.5000  7.5000  7.5000  7.5000  7.5000  7.5000\n",
       " 7.5000  7.5000  7.5000  7.5000  7.5000  7.5000  7.5000\n",
       " 7.5000  7.5000  7.5000  7.5000  7.5000  7.5000  7.5000\n",
       "[torch.FloatTensor of size 5x7]"
      ]
     },
     "execution_count": 12,
     "metadata": {},
     "output_type": "execute_result"
    }
   ],
   "source": [
    "a.add(4)"
   ]
  },
  {
   "cell_type": "code",
   "execution_count": 15,
   "metadata": {},
   "outputs": [
    {
     "name": "stdout",
     "output_type": "stream",
     "text": [
      "\n",
      " 3.5000  3.5000  3.5000  3.5000  3.5000  3.5000  3.5000\n",
      " 3.5000  3.5000  3.5000  3.5000  3.5000  3.5000  3.5000\n",
      " 3.5000  3.5000  3.5000  3.5000  3.5000  3.5000  3.5000\n",
      " 3.5000  3.5000  3.5000  3.5000  3.5000  3.5000  3.5000\n",
      " 3.5000  3.5000  3.5000  3.5000  3.5000  3.5000  3.5000\n",
      "[torch.FloatTensor of size 5x7]\n",
      "\n"
     ]
    }
   ],
   "source": [
    "print(a)"
   ]
  },
  {
   "cell_type": "code",
   "execution_count": 16,
   "metadata": {},
   "outputs": [
    {
     "name": "stdout",
     "output_type": "stream",
     "text": [
      "\n",
      " 7.5000  7.5000  7.5000  7.5000  7.5000  7.5000  7.5000\n",
      " 7.5000  7.5000  7.5000  7.5000  7.5000  7.5000  7.5000\n",
      " 7.5000  7.5000  7.5000  7.5000  7.5000  7.5000  7.5000\n",
      " 7.5000  7.5000  7.5000  7.5000  7.5000  7.5000  7.5000\n",
      " 7.5000  7.5000  7.5000  7.5000  7.5000  7.5000  7.5000\n",
      "[torch.FloatTensor of size 5x7]\n",
      "\n"
     ]
    }
   ],
   "source": [
    "a.add_(4)\n",
    "print(a)"
   ]
  },
  {
   "cell_type": "code",
   "execution_count": 17,
   "metadata": {
    "collapsed": true
   },
   "outputs": [],
   "source": [
    "# convnet example\n",
    "import torch\n",
    "from torch.autograd import Variable\n",
    "import torch.nn as nn\n",
    "import torch.nn.functional as F"
   ]
  },
  {
   "cell_type": "code",
   "execution_count": 20,
   "metadata": {
    "collapsed": true
   },
   "outputs": [],
   "source": [
    "class MnistConvNet(nn.Module):\n",
    "    def __init__(self):\n",
    "        super(MnistConvNet, self).__init__()\n",
    "        self.conv1 = nn.Conv2d(1, 10, 5)\n",
    "        self.pool1 = nn.MaxPool2d(2, 2)\n",
    "        self.conv2 = nn.Conv2d(10, 20, 5)\n",
    "        self.pool2 = nn.MaxPool2d(2, 2)\n",
    "        self.fc1 = nn.Linear(320, 50)\n",
    "        self.fc2= nn.Linear(50, 10)\n",
    "        \n",
    "    def forward(self, input):\n",
    "        x = self.pool1(F.relu(self.conv1(input)))\n",
    "        x = self.pool2(F.relu(self.conv2(x)))\n",
    "        x = x.view(x.size(0), -1)\n",
    "        x = F.relu(self.fc1(x))\n",
    "        x = F.relu(self.fc2(x))\n",
    "        return x"
   ]
  },
  {
   "cell_type": "code",
   "execution_count": 22,
   "metadata": {},
   "outputs": [
    {
     "name": "stdout",
     "output_type": "stream",
     "text": [
      "MnistConvNet (\n",
      "  (conv1): Conv2d(1, 10, kernel_size=(5, 5), stride=(1, 1))\n",
      "  (pool1): MaxPool2d (size=(2, 2), stride=(2, 2), dilation=(1, 1))\n",
      "  (conv2): Conv2d(10, 20, kernel_size=(5, 5), stride=(1, 1))\n",
      "  (pool2): MaxPool2d (size=(2, 2), stride=(2, 2), dilation=(1, 1))\n",
      "  (fc1): Linear (320 -> 50)\n",
      "  (fc2): Linear (50 -> 10)\n",
      ")\n"
     ]
    }
   ],
   "source": [
    "net = MnistConvNet()\n",
    "print(net)"
   ]
  },
  {
   "cell_type": "code",
   "execution_count": 24,
   "metadata": {},
   "outputs": [
    {
     "name": "stdout",
     "output_type": "stream",
     "text": [
      "torch.Size([1, 10])\n"
     ]
    }
   ],
   "source": [
    "input = Variable(torch.randn(1, 1, 28, 28))\n",
    "out = net(input)\n",
    "print(out.size())"
   ]
  },
  {
   "cell_type": "code",
   "execution_count": 26,
   "metadata": {
    "collapsed": true
   },
   "outputs": [],
   "source": [
    "# Recurrent net example\n",
    "class RNN(nn.Module):\n",
    "    def __init__(self, data_size, hidden_size, output_size):\n",
    "        suprt(RNN, self).__init__()\n",
    "        self.hidden_size = hidden_size\n",
    "        input_size = data_size + hidden_size\n",
    "        \n",
    "        self.i2h = nn.Linear(input_size, hidden_size)\n",
    "        self.h2o = nn.Linear(hidden_size, output_size)\n",
    "        \n",
    "    def forward(self, data, last_hidden):\n",
    "        input = torch.cat((data, last_hidden), 1)\n",
    "        hidden = self.i2h(input)\n",
    "        output = self.h2o(hidden)\n",
    "        return hidden, output"
   ]
  },
  {
   "cell_type": "code",
   "execution_count": null,
   "metadata": {
    "collapsed": true
   },
   "outputs": [],
   "source": []
  }
 ],
 "metadata": {
  "kernelspec": {
   "display_name": "Python 3",
   "language": "python",
   "name": "python3"
  },
  "language_info": {
   "codemirror_mode": {
    "name": "ipython",
    "version": 3
   },
   "file_extension": ".py",
   "mimetype": "text/x-python",
   "name": "python",
   "nbconvert_exporter": "python",
   "pygments_lexer": "ipython3",
   "version": "3.6.1+"
  }
 },
 "nbformat": 4,
 "nbformat_minor": 2
}
