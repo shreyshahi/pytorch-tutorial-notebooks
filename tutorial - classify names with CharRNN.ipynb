{
 "cells": [
  {
   "cell_type": "code",
   "execution_count": 1,
   "metadata": {
    "collapsed": true
   },
   "outputs": [],
   "source": [
    "from __future__ import unicode_literals, print_function, division\n",
    "from io import open\n",
    "import glob"
   ]
  },
  {
   "cell_type": "code",
   "execution_count": 3,
   "metadata": {},
   "outputs": [],
   "source": [
    "def findFiles(path):\n",
    "    return glob.glob(path)\n"
   ]
  },
  {
   "cell_type": "code",
   "execution_count": 5,
   "metadata": {},
   "outputs": [],
   "source": [
    "import unicodedata\n",
    "import string\n",
    "\n",
    "all_letters = string.ascii_letters + \".,;'\"\n",
    "n_letters = len(all_letters)"
   ]
  },
  {
   "cell_type": "code",
   "execution_count": 6,
   "metadata": {
    "collapsed": true
   },
   "outputs": [],
   "source": [
    "def unicodeToAscii(s):\n",
    "    return \"\".join(\n",
    "        c for c in unicodedata.normalize(\"NFD\", s)\n",
    "        if unicodedata.category(c) != \"Mn\"\n",
    "        and c in all_letters\n",
    "    )"
   ]
  },
  {
   "cell_type": "code",
   "execution_count": 7,
   "metadata": {},
   "outputs": [
    {
     "name": "stdout",
     "output_type": "stream",
     "text": [
      "Slusarski\n"
     ]
    }
   ],
   "source": [
    "print(unicodeToAscii(\"Ślusàrski\"))"
   ]
  },
  {
   "cell_type": "code",
   "execution_count": 8,
   "metadata": {
    "collapsed": true
   },
   "outputs": [],
   "source": [
    "category_lines = {}\n",
    "all_categories = []\n",
    "\n",
    "def readLines(filename):\n",
    "    lines = open(filename, encoding=\"utf-8\").read().strip().split(\"\\n\")\n",
    "    return [unicodeToAscii(line) for line in lines]\n",
    "\n",
    "for filename in findFiles(\"names/data/names/*.txt\"):\n",
    "    category = filename.split(\"/\")[-1].split(\".\")[0]\n",
    "    all_categories.append(category)\n",
    "    lines = readLines(filename)\n",
    "    category_lines[category] = lines\n",
    "    \n",
    "n_categories = len(all_categories)"
   ]
  },
  {
   "cell_type": "code",
   "execution_count": 10,
   "metadata": {
    "collapsed": true
   },
   "outputs": [],
   "source": [
    "import torch\n",
    "\n",
    "def letter_to_index(letter):\n",
    "    return all_letters.find(letter)\n",
    "\n",
    "def letter_to_tensor(letter):\n",
    "    tensor = torch.zeros(1, n_letters)\n",
    "    tensor[0][letter_to_index(letter)] = 1\n",
    "    return tensor\n",
    "\n",
    "def line_to_tensor(line):\n",
    "    tensor = torch.zeros(len(line), 1, n_letters)\n",
    "    for li, letter in enumerate(line):\n",
    "        tensor[li][0][letter_to_index(letter)] = 1\n",
    "    return tensor"
   ]
  },
  {
   "cell_type": "code",
   "execution_count": 14,
   "metadata": {},
   "outputs": [],
   "source": [
    "import torch.nn as nn\n",
    "from torch.autograd import Variable\n",
    "\n",
    "class RNN(nn.Module):\n",
    "    def __init__(self, input_size, hidden_size, output_size):\n",
    "        super(RNN, self).__init__()\n",
    "        self.hidden_size = hidden_size\n",
    "        self.lstm = nn.LSTM(input_size, hidden_size)\n",
    "        self.linear = nn.Linear(hidden_size, output_size)\n",
    "        self.hidden = self.init_hidden()\n",
    "        self.softmax = nn.LogSoftmax()\n",
    "        \n",
    "    def init_hidden(self):\n",
    "        return (\n",
    "            Variable(torch.zeros(1, 1, self.hidden_size)),\n",
    "            Variable(torch.zeros(1, 1, self.hidden_size))\n",
    "        )\n",
    "    \n",
    "    def forward(self, data):\n",
    "        lstm_out, self.hidden = self.lstm(data, self.hidden)\n",
    "        result = self.linear(lstm_out.view(len(data), -1))\n",
    "        result = self.softmax(result)\n",
    "        return result"
   ]
  },
  {
   "cell_type": "code",
   "execution_count": 20,
   "metadata": {},
   "outputs": [],
   "source": [
    "n_hidden = 128\n",
    "rnn = RNN(n_letters, n_hidden, n_categories)"
   ]
  },
  {
   "cell_type": "code",
   "execution_count": 45,
   "metadata": {},
   "outputs": [],
   "source": [
    "def category_from_output(output):\n",
    "    top_n, top_i = output.data.topk(1)\n",
    "    category_i = top_i[0]\n",
    "    return all_categories[category_i], category_i"
   ]
  },
  {
   "cell_type": "code",
   "execution_count": 42,
   "metadata": {},
   "outputs": [],
   "source": [
    "learning_rate = 0.005\n",
    "criterion = nn.NLLLoss()\n",
    "def train(category_tensor, line_tensor):\n",
    "    rnn.hidden = rnn.init_hidden()\n",
    "    rnn.zero_grad()\n",
    "    output = rnn(line_tensor)\n",
    "    loss = criterion(output[-1,:], category_tensor)\n",
    "    loss.backward()\n",
    "    \n",
    "    for p in rnn.parameters():\n",
    "        p.data.add_(-learning_rate, p.grad.data)\n",
    "    return output[-1,:], loss.data[0]"
   ]
  },
  {
   "cell_type": "code",
   "execution_count": 43,
   "metadata": {},
   "outputs": [
    {
     "name": "stdout",
     "output_type": "stream",
     "text": [
      "category = English / line = Lowndes\n",
      "category = Portuguese / line = Ventura\n",
      "category = Chinese / line = Pang\n",
      "category = Portuguese / line = Castro\n",
      "category = English / line = Adlam\n",
      "category = Polish / line = Pasternack\n",
      "category = English / line = Draper\n",
      "category = Korean / line = Choe\n",
      "category = Vietnamese / line = Lieu\n",
      "category = German / line = Muller\n"
     ]
    }
   ],
   "source": [
    "import random\n",
    "\n",
    "def randomChoice(l):\n",
    "    return l[random.randint(0, len(l) - 1)]\n",
    "\n",
    "def randomTrainingExample():\n",
    "    category = randomChoice(all_categories)\n",
    "    line = randomChoice(category_lines[category])\n",
    "    category_tensor = Variable(torch.LongTensor([all_categories.index(category)]))\n",
    "    line_tensor = Variable(line_to_tensor(line))\n",
    "    return category, line, category_tensor, line_tensor\n",
    "\n",
    "for i in range(10):\n",
    "    category, line, category_tensor, line_tensor = randomTrainingExample()\n",
    "    print('category =', category, '/ line =', line)\n"
   ]
  },
  {
   "cell_type": "code",
   "execution_count": 46,
   "metadata": {},
   "outputs": [
    {
     "name": "stdout",
     "output_type": "stream",
     "text": [
      "5000 5% (0m 51s) 2.7940 Babakhanov / Russian ✓\n",
      "10000 10% (1m 37s) 2.8840 Sitta / Japanese ✗ (Czech)\n",
      "15000 15% (2m 21s) 2.7892 Noel / Scottish ✗ (French)\n",
      "20000 20% (3m 11s) 2.5077 Kaza / Vietnamese ✗ (Japanese)\n",
      "25000 25% (3m 54s) 2.2498 Fournier / French ✓\n",
      "30000 30% (4m 41s) 4.0724 Vann / Korean ✗ (Dutch)\n",
      "35000 35% (5m 29s) 1.2792 Phi / Korean ✗ (Vietnamese)\n",
      "40000 40% (6m 10s) 1.5308 Ruadhain / Irish ✓\n",
      "45000 45% (6m 54s) 6.2300 Shah / Vietnamese ✗ (Russian)\n",
      "50000 50% (7m 37s) 0.0877 Sfakianos / Greek ✓\n",
      "55000 55% (8m 14s) 2.2213 Craig / Arabic ✗ (Scottish)\n",
      "60000 60% (8m 55s) 1.3240 Pierre / German ✗ (French)\n",
      "65000 65% (9m 41s) 0.8441 Hyata / Japanese ✓\n",
      "70000 70% (10m 25s) 1.0061 Mo / Korean ✓\n",
      "75000 75% (11m 12s) 0.8888 Yi / Korean ✓\n",
      "80000 80% (12m 1s) 2.9888 Delbosque / French ✗ (Spanish)\n",
      "85000 85% (12m 42s) 1.7032 Cunningham / Scottish ✗ (English)\n",
      "90000 90% (13m 24s) 0.0314 Kozlowski / Polish ✓\n",
      "95000 95% (14m 6s) 0.0235 Kouropoulos / Greek ✓\n",
      "100000 100% (14m 52s) 1.0757 Homulka / Polish ✗ (Czech)\n"
     ]
    }
   ],
   "source": [
    "import time\n",
    "import math\n",
    "\n",
    "n_iters = 100000\n",
    "print_every = 5000\n",
    "plot_every = 1000\n",
    "\n",
    "# Keep track of losses for plotting\n",
    "current_loss = 0\n",
    "all_losses = []\n",
    "\n",
    "def timeSince(since):\n",
    "    now = time.time()\n",
    "    s = now - since\n",
    "    m = math.floor(s / 60)\n",
    "    s -= m * 60\n",
    "    return '%dm %ds' % (m, s)\n",
    "\n",
    "start = time.time()\n",
    "\n",
    "for iter in range(1, n_iters + 1):\n",
    "    category, line, category_tensor, line_tensor = randomTrainingExample()\n",
    "    output, loss = train(category_tensor, line_tensor)\n",
    "    current_loss += loss\n",
    "\n",
    "    # Print iter number, loss, name and guess\n",
    "    if iter % print_every == 0:\n",
    "        guess, guess_i = category_from_output(output)\n",
    "        correct = '✓' if guess == category else '✗ (%s)' % category\n",
    "        print('%d %d%% (%s) %.4f %s / %s %s' % (iter, iter / n_iters * 100, timeSince(start), loss, line, guess, correct))\n",
    "\n",
    "    # Add current loss avg to list of losses\n",
    "    if iter % plot_every == 0:\n",
    "        all_losses.append(current_loss / plot_every)\n",
    "        current_loss = 0"
   ]
  },
  {
   "cell_type": "code",
   "execution_count": 47,
   "metadata": {},
   "outputs": [
    {
     "data": {
      "text/plain": [
       "[<matplotlib.lines.Line2D at 0x7f9488a2db00>]"
      ]
     },
     "execution_count": 47,
     "metadata": {},
     "output_type": "execute_result"
    },
    {
     "data": {
      "image/png": "[encoded data removed]",
      "text/plain": [
       "<matplotlib.figure.Figure at 0x7f94c44f2dd8>"
      ]
     },
     "metadata": {},
     "output_type": "display_data"
    }
   ],
   "source": [
    "import matplotlib.pyplot as plt\n",
    "import matplotlib.ticker as ticker\n",
    "\n",
    "%matplotlib inline\n",
    "\n",
    "plt.figure()\n",
    "plt.plot(all_losses)"
   ]
  },
  {
   "cell_type": "code",
   "execution_count": 48,
   "metadata": {
    "collapsed": true
   },
   "outputs": [],
   "source": [
    "def evaluate(line_tensor):\n",
    "    rnn.hidden = rnn.init_hidden()\n",
    "    output = rnn(line_tensor)\n",
    "    return output[-1,:]"
   ]
  },
  {
   "cell_type": "code",
   "execution_count": 60,
   "metadata": {
    "collapsed": true
   },
   "outputs": [],
   "source": [
    "def predict(input_line, n_predictions=3):\n",
    "    print('\\n> %s' % input_line)\n",
    "    output = evaluate(Variable(line_to_tensor(input_line)))\n",
    "    # Get top N categories\n",
    "    topv, topi = output.data.topk(n_predictions)\n",
    "\n",
    "    for i in range(n_predictions):\n",
    "        value = topv[i]\n",
    "        category_index = topi[i]\n",
    "        print('(%.2f) %s' % (value, all_categories[category_index]))"
   ]
  },
  {
   "cell_type": "code",
   "execution_count": 63,
   "metadata": {},
   "outputs": [
    {
     "name": "stdout",
     "output_type": "stream",
     "text": [
      "\n",
      "> Dovesky\n",
      "(-0.59) Russian\n",
      "(-1.34) Czech\n",
      "(-2.74) Polish\n"
     ]
    }
   ],
   "source": [
    "predict(\"Dovesky\")"
   ]
  },
  {
   "cell_type": "code",
   "execution_count": 64,
   "metadata": {},
   "outputs": [
    {
     "name": "stdout",
     "output_type": "stream",
     "text": [
      "\n",
      "> Jackson\n",
      "(-0.35) Scottish\n",
      "(-1.88) English\n",
      "(-3.09) Czech\n"
     ]
    }
   ],
   "source": [
    "predict(\"Jackson\")"
   ]
  },
  {
   "cell_type": "code",
   "execution_count": 66,
   "metadata": {},
   "outputs": [
    {
     "name": "stdout",
     "output_type": "stream",
     "text": [
      "\n",
      "> Nakamoto\n",
      "(-0.15) Japanese\n",
      "(-2.21) Greek\n",
      "(-4.68) Italian\n"
     ]
    }
   ],
   "source": [
    "predict(\"Nakamoto\")"
   ]
  },
  {
   "cell_type": "code",
   "execution_count": 69,
   "metadata": {},
   "outputs": [
    {
     "name": "stdout",
     "output_type": "stream",
     "text": [
      "\n",
      "> Schmidhuber\n",
      "(-0.45) German\n",
      "(-2.33) Dutch\n",
      "(-2.50) Scottish\n"
     ]
    }
   ],
   "source": [
    "predict(\"Schmidhuber\")"
   ]
  },
  {
   "cell_type": "code",
   "execution_count": 70,
   "metadata": {},
   "outputs": [
    {
     "name": "stdout",
     "output_type": "stream",
     "text": [
      "\n",
      "> Hinton\n",
      "(-0.73) Scottish\n",
      "(-1.28) English\n",
      "(-3.17) Dutch\n"
     ]
    }
   ],
   "source": [
    "predict(\"Hinton\")"
   ]
  },
  {
   "cell_type": "code",
   "execution_count": null,
   "metadata": {
    "collapsed": true
   },
   "outputs": [],
   "source": []
  }
 ],
 "metadata": {
  "kernelspec": {
   "display_name": "Python 3",
   "language": "python",
   "name": "python3"
  },
  "language_info": {
   "codemirror_mode": {
    "name": "ipython",
    "version": 3
   },
   "file_extension": ".py",
   "mimetype": "text/x-python",
   "name": "python",
   "nbconvert_exporter": "python",
   "pygments_lexer": "ipython3",
   "version": "3.6.1+"
  }
 },
 "nbformat": 4,
 "nbformat_minor": 2
}
