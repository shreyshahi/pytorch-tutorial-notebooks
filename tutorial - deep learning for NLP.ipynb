{
 "cells": [
  {
   "cell_type": "code",
   "execution_count": 2,
   "metadata": {},
   "outputs": [
    {
     "data": {
      "text/plain": [
       "<torch._C.Generator at 0x7efd9d7a2270>"
      ]
     },
     "execution_count": 2,
     "metadata": {},
     "output_type": "execute_result"
    }
   ],
   "source": [
    "import torch\n",
    "import torch.autograd as autograd\n",
    "import torch.nn as nn\n",
    "import torch.nn.functional as F\n",
    "import torch.optim as optim\n",
    "\n",
    "torch.manual_seed(1)"
   ]
  },
  {
   "cell_type": "code",
   "execution_count": 3,
   "metadata": {
    "collapsed": true
   },
   "outputs": [],
   "source": [
    "x = autograd.Variable(torch.Tensor([1., 2., 3]), requires_grad=True)\n",
    "y = autograd.Variable(torch.Tensor([4., 5., 6]), requires_grad=True)\n",
    "z = x + y\n",
    "s = z.sum()"
   ]
  },
  {
   "cell_type": "code",
   "execution_count": 11,
   "metadata": {},
   "outputs": [],
   "source": [
    "s.backward()"
   ]
  },
  {
   "cell_type": "code",
   "execution_count": 14,
   "metadata": {},
   "outputs": [
    {
     "name": "stdout",
     "output_type": "stream",
     "text": [
      "Variable containing:\n",
      " 1\n",
      " 1\n",
      " 1\n",
      "[torch.FloatTensor of size 3]\n",
      "\n"
     ]
    }
   ],
   "source": [
    "print(x.grad)"
   ]
  },
  {
   "cell_type": "code",
   "execution_count": 16,
   "metadata": {},
   "outputs": [
    {
     "name": "stdout",
     "output_type": "stream",
     "text": [
      "{'me': 0, 'gusta': 1, 'comer': 2, 'en': 3, 'la': 4, 'cafeteria': 5, 'Give': 6, 'it': 7, 'to': 8, 'No': 9, 'creo': 10, 'que': 11, 'sea': 12, 'una': 13, 'buena': 14, 'idea': 15, 'is': 16, 'not': 17, 'a': 18, 'good': 19, 'get': 20, 'lost': 21, 'at': 22, 'Yo': 23, 'si': 24, 'on': 25}\n"
     ]
    }
   ],
   "source": [
    "# nn example\n",
    "data = [(\"me gusta comer en la cafeteria\".split(), \"SPANISH\"),\n",
    "        (\"Give it to me\".split(), \"ENGLISH\"),\n",
    "        (\"No creo que sea una buena idea\".split(), \"SPANISH\"),\n",
    "        (\"No it is not a good idea to get lost at sea\".split(), \"ENGLISH\")]\n",
    "\n",
    "test_data = [(\"Yo creo que si\".split(), \"SPANISH\"),\n",
    "             (\"it is lost on me\".split(), \"ENGLISH\")]\n",
    "\n",
    "word_to_ix = {}\n",
    "for sent, _ in data + test_data:\n",
    "    for word in sent:\n",
    "        if word not in word_to_ix:\n",
    "            word_to_ix[word] = len(word_to_ix)\n",
    "\n",
    "print(word_to_ix)"
   ]
  },
  {
   "cell_type": "code",
   "execution_count": 18,
   "metadata": {
    "collapsed": true
   },
   "outputs": [],
   "source": [
    "VOCAB_SIZE = len(word_to_ix)\n",
    "NUM_LABELS = 2\n",
    "\n",
    "class BoWClassifier(nn.Module):\n",
    "    def __init__(self, num_labels, vocab_size):\n",
    "        super(BoWClassifier, self).__init__()\n",
    "        self.linear = nn.Linear(vocab_size, num_labels)\n",
    "    \n",
    "    def forward(self, bow_vec):\n",
    "        return F.log_softmax(self.linear(bow_vec))"
   ]
  },
  {
   "cell_type": "code",
   "execution_count": 19,
   "metadata": {},
   "outputs": [
    {
     "name": "stdout",
     "output_type": "stream",
     "text": [
      "Parameter containing:\n",
      "\n",
      "Columns 0 to 9 \n",
      "-0.0325  0.1950  0.0864  0.1697 -0.1961 -0.1459 -0.0775  0.1957 -0.1386 -0.1035\n",
      " 0.1483 -0.1061 -0.1854  0.0135  0.0669  0.1624 -0.0324 -0.0168  0.0230 -0.0272\n",
      "\n",
      "Columns 10 to 19 \n",
      "-0.1599 -0.0406 -0.1231 -0.0440 -0.0606  0.0666 -0.0405  0.1708  0.0152  0.1358\n",
      "-0.1411  0.1722 -0.1184  0.1092  0.1180  0.0847  0.1837  0.1188 -0.0732 -0.1597\n",
      "\n",
      "Columns 20 to 25 \n",
      "-0.0317 -0.0732  0.0726  0.0096 -0.1159 -0.0222\n",
      " 0.0754  0.0071  0.1476  0.1432  0.1548  0.1291\n",
      "[torch.FloatTensor of size 2x26]\n",
      "\n",
      "Parameter containing:\n",
      "-0.1628\n",
      " 0.1293\n",
      "[torch.FloatTensor of size 2]\n",
      "\n"
     ]
    }
   ],
   "source": [
    "def make_bow_vector(sentence, word_to_ix):\n",
    "    vec = torch.zeros(len(word_to_ix))\n",
    "    for word in sentence:\n",
    "        vec[word_to_ix[word]] += 1\n",
    "    return vec.view(1, -1)\n",
    "\n",
    "def make_target(label, label_to_ix):\n",
    "    return torch.LongTensor([label_to_ix[label]])\n",
    "\n",
    "model = BoWClassifier(NUM_LABELS, VOCAB_SIZE)\n",
    "\n",
    "for param in model.parameters():\n",
    "    print(param)"
   ]
  },
  {
   "cell_type": "code",
   "execution_count": 20,
   "metadata": {
    "collapsed": true
   },
   "outputs": [],
   "source": [
    "sample = data[0]\n",
    "bow_vector = make_bow_vector(sample[0], word_to_ix)\n",
    "log_probs = model(autograd.Variable(bow_vector))\n",
    "\n",
    "label_to_ix = {\"SPANISH\": 0, \"ENGLISH\": 1}\n"
   ]
  },
  {
   "cell_type": "code",
   "execution_count": 21,
   "metadata": {
    "collapsed": true
   },
   "outputs": [],
   "source": [
    "loss_function = nn.NLLLoss()\n",
    "optimizer = optim.SGD(model.parameters(), lr=0.1)\n",
    "\n",
    "for epoch in range(100):\n",
    "    for instance, label in data:\n",
    "        model.zero_grad()\n",
    "        bow_vec = autograd.Variable(make_bow_vector(instance, word_to_ix))\n",
    "        target = autograd.Variable(make_target(label, label_to_ix))\n",
    "        \n",
    "        log_probs = model(bow_vec)\n",
    "        loss = loss_function(log_probs, target)\n",
    "        loss.backward()\n",
    "        optimizer.step()"
   ]
  },
  {
   "cell_type": "code",
   "execution_count": 24,
   "metadata": {},
   "outputs": [
    {
     "name": "stdout",
     "output_type": "stream",
     "text": [
      "Variable containing:\n",
      " 0.3315\n",
      "-0.6325\n",
      "[torch.FloatTensor of size 2]\n",
      "\n"
     ]
    }
   ],
   "source": [
    "print(next(model.parameters())[:, word_to_ix[\"creo\"]])"
   ]
  },
  {
   "cell_type": "code",
   "execution_count": 33,
   "metadata": {
    "collapsed": true
   },
   "outputs": [],
   "source": [
    "## Word embeddings : Encoding Lexical Semantics"
   ]
  },
  {
   "cell_type": "code",
   "execution_count": 34,
   "metadata": {},
   "outputs": [
    {
     "data": {
      "text/plain": [
       "<torch._C.Generator at 0x7efd9d7a2270>"
      ]
     },
     "execution_count": 34,
     "metadata": {},
     "output_type": "execute_result"
    }
   ],
   "source": [
    "torch.manual_seed(1)"
   ]
  },
  {
   "cell_type": "code",
   "execution_count": 35,
   "metadata": {},
   "outputs": [
    {
     "name": "stdout",
     "output_type": "stream",
     "text": [
      "Variable containing:\n",
      "-2.9718  1.7070 -0.4305 -2.2820  0.5237\n",
      "[torch.FloatTensor of size 1x5]\n",
      "\n"
     ]
    }
   ],
   "source": [
    "word_to_ix = {\"hello\": 0, \"world\": 1}\n",
    "embeds = nn.Embedding(2, 5)\n",
    "lookup_tensor = torch.LongTensor([word_to_ix[\"hello\"]])\n",
    "hello_embed = embeds(autograd.Variable(lookup_tensor))\n",
    "print(hello_embed)"
   ]
  },
  {
   "cell_type": "code",
   "execution_count": 36,
   "metadata": {
    "collapsed": true
   },
   "outputs": [],
   "source": [
    "CONTEXT_SIZE = 2\n",
    "EMBEDDING_DIM = 10\n",
    "# We will use Shakespeare Sonnet 2\n",
    "test_sentence = \"\"\"When forty winters shall besiege thy brow,\n",
    "And dig deep trenches in thy beauty's field,\n",
    "Thy youth's proud livery so gazed on now,\n",
    "Will be a totter'd weed of small worth held:\n",
    "Then being asked, where all thy beauty lies,\n",
    "Where all the treasure of thy lusty days;\n",
    "To say, within thine own deep sunken eyes,\n",
    "Were an all-eating shame, and thriftless praise.\n",
    "How much more praise deserv'd thy beauty's use,\n",
    "If thou couldst answer 'This fair child of mine\n",
    "Shall sum my count, and make my old excuse,'\n",
    "Proving his beauty by succession thine!\n",
    "This were to be new made when thou art old,\n",
    "And see thy blood warm when thou feel'st it cold.\"\"\".split()\n"
   ]
  },
  {
   "cell_type": "code",
   "execution_count": 37,
   "metadata": {
    "collapsed": true
   },
   "outputs": [],
   "source": [
    "trigrams = [\n",
    "    (\n",
    "        [test_sentence[i], test_sentence[i+1]],\n",
    "        test_sentence[i+2]\n",
    "    ) for i in range(len(test_sentence) - 2)\n",
    "]"
   ]
  },
  {
   "cell_type": "code",
   "execution_count": 39,
   "metadata": {},
   "outputs": [],
   "source": [
    "vocab = set(test_sentence)\n",
    "word_to_ix = {word: i for i, word in enumerate(vocab)}"
   ]
  },
  {
   "cell_type": "code",
   "execution_count": 53,
   "metadata": {
    "collapsed": true
   },
   "outputs": [],
   "source": [
    "class NGramLanguageModeler(nn.Module):\n",
    "    def __init__(self, vocab_size, embedding_dim, context_size):\n",
    "        super(NGramLanguageModeler, self).__init__()\n",
    "        self.embeddings = nn.Embedding(vocab_size, embedding_dim)\n",
    "        self.linear1 = nn.Linear(context_size * embedding_dim, 128)\n",
    "        self.linear2 = nn.Linear(128, vocab_size)\n",
    "        \n",
    "    def forward(self, inputs):\n",
    "        embeds = self.embeddings(inputs).view((1, -1))\n",
    "        out = F.relu(self.linear1(embeds))\n",
    "        out = self.linear2(out)\n",
    "        log_probs = F.log_softmax(out)\n",
    "        return log_probs"
   ]
  },
  {
   "cell_type": "code",
   "execution_count": 54,
   "metadata": {
    "collapsed": true
   },
   "outputs": [],
   "source": [
    "losses = []\n",
    "loss_function = nn.NLLLoss()\n",
    "model = NGramLanguageModeler(len(vocab), EMBEDDING_DIM, CONTEXT_SIZE)\n",
    "optimizer = optim.SGD(model.parameters(), lr=0.001)"
   ]
  },
  {
   "cell_type": "code",
   "execution_count": 59,
   "metadata": {},
   "outputs": [],
   "source": [
    "for epoch in range(100):\n",
    "    total_loss = torch.Tensor([0])\n",
    "    for context, target in trigrams:\n",
    "        context_idxs = [word_to_ix[w] for w in context]\n",
    "        context_var = autograd.Variable(torch.LongTensor(context_idxs))\n",
    "        \n",
    "        model.zero_grad()\n",
    "        log_probs = model(context_var)\n",
    "        loss = loss_function(\n",
    "            log_probs,\n",
    "            autograd.Variable(torch.LongTensor([word_to_ix[target]]))\n",
    "        )\n",
    "        loss.backward()\n",
    "        optimizer.step()\n",
    "        \n",
    "        total_loss += loss.data\n",
    "    losses.append(total_loss)"
   ]
  },
  {
   "cell_type": "code",
   "execution_count": 61,
   "metadata": {},
   "outputs": [],
   "source": [
    "# Exercise: CBOW model"
   ]
  },
  {
   "cell_type": "markdown",
   "metadata": {},
   "source": [
    "$$\\text{-log} p(w_i|C) = \\text{-log} Softmax(A(\\sum_{w \\in C}(q_w)) + b) $$"
   ]
  },
  {
   "cell_type": "code",
   "execution_count": 62,
   "metadata": {},
   "outputs": [
    {
     "name": "stdout",
     "output_type": "stream",
     "text": [
      "[(['We', 'are', 'to', 'study'], 'about'), (['are', 'about', 'study', 'the'], 'to'), (['about', 'to', 'the', 'idea'], 'study'), (['to', 'study', 'idea', 'of'], 'the'), (['study', 'the', 'of', 'a'], 'idea')]\n"
     ]
    }
   ],
   "source": [
    "CONTEXT_SIZE = 2  # 2 words to the left, 2 to the right\n",
    "raw_text = \"\"\"We are about to study the idea of a computational process.\n",
    "Computational processes are abstract beings that inhabit computers.\n",
    "As they evolve, processes manipulate other abstract things called data.\n",
    "The evolution of a process is directed by a pattern of rules\n",
    "called a program. People create programs to direct processes. In effect,\n",
    "we conjure the spirits of the computer with our spells.\"\"\".split()\n",
    "\n",
    "# By deriving a set from `raw_text`, we deduplicate the array\n",
    "vocab = set(raw_text)\n",
    "vocab_size = len(vocab)\n",
    "\n",
    "word_to_ix = {word: i for i, word in enumerate(vocab)}\n",
    "data = []\n",
    "for i in range(2, len(raw_text) - 2):\n",
    "    context = [raw_text[i - 2], raw_text[i - 1],\n",
    "               raw_text[i + 1], raw_text[i + 2]]\n",
    "    target = raw_text[i]\n",
    "    data.append((context, target))\n",
    "print(data[:5])"
   ]
  },
  {
   "cell_type": "code",
   "execution_count": 70,
   "metadata": {
    "collapsed": true
   },
   "outputs": [],
   "source": [
    "class CBOW(nn.Module):\n",
    "    def __init__(self, vocab_size, embedding_dim, context_size):\n",
    "        super(CBOW, self).__init__()\n",
    "        self.embeddings = nn.Embedding(vocab_size, embedding_dim)\n",
    "        self.linear = nn.Linear(embedding_dim, vocab_size)\n",
    "\n",
    "    def forward(self, inputs):\n",
    "        embeds = self.embeddings(inputs)\n",
    "        out = self.linear(embeds.sum(0))\n",
    "        log_probs = F.log_softmax(out)\n",
    "        return log_probs"
   ]
  },
  {
   "cell_type": "code",
   "execution_count": 72,
   "metadata": {},
   "outputs": [],
   "source": [
    "\n",
    "# create your model and train.  here are some functions to help you make\n",
    "# the data ready for use by your module\n",
    "\n",
    "\n",
    "def make_context_vector(context, word_to_ix):\n",
    "    idxs = [word_to_ix[w] for w in context]\n",
    "    tensor = torch.LongTensor(idxs)\n",
    "    return autograd.Variable(tensor)\n"
   ]
  },
  {
   "cell_type": "code",
   "execution_count": 81,
   "metadata": {
    "collapsed": true
   },
   "outputs": [],
   "source": [
    "losses = []\n",
    "loss_function = nn.NLLLoss()\n",
    "model = CBOW(len(vocab), EMBEDDING_DIM, CONTEXT_SIZE)\n",
    "optimizer = optim.SGD(model.parameters(), lr=0.01)"
   ]
  },
  {
   "cell_type": "code",
   "execution_count": 82,
   "metadata": {},
   "outputs": [],
   "source": [
    "for epoch in range(100):\n",
    "    total_loss = torch.Tensor([0])\n",
    "    for context, target in data:\n",
    "        context_var = make_context_vector(context, word_to_ix)\n",
    "        \n",
    "        model.zero_grad()\n",
    "        log_probs = model(context_var)\n",
    "        loss = loss_function(\n",
    "            log_probs,\n",
    "            autograd.Variable(torch.LongTensor([word_to_ix[target]]))\n",
    "        )\n",
    "        loss.backward()\n",
    "        optimizer.step()\n",
    "        \n",
    "        total_loss += loss.data\n",
    "    losses.append(total_loss)"
   ]
  },
  {
   "cell_type": "code",
   "execution_count": 83,
   "metadata": {
    "collapsed": true
   },
   "outputs": [
    {
     "name": "stdout",
     "output_type": "stream",
     "text": [
      "[\n",
      " 276.0509\n",
      "[torch.FloatTensor of size 1]\n",
      ", \n",
      " 250.1073\n",
      "[torch.FloatTensor of size 1]\n",
      ", \n",
      " 228.3769\n",
      "[torch.FloatTensor of size 1]\n",
      ", \n",
      " 209.8462\n",
      "[torch.FloatTensor of size 1]\n",
      ", \n",
      " 193.8286\n",
      "[torch.FloatTensor of size 1]\n",
      ", \n",
      " 179.8552\n",
      "[torch.FloatTensor of size 1]\n",
      ", \n",
      " 167.6058\n",
      "[torch.FloatTensor of size 1]\n",
      ", \n",
      " 156.8364\n",
      "[torch.FloatTensor of size 1]\n",
      ", \n",
      " 147.3302\n",
      "[torch.FloatTensor of size 1]\n",
      ", \n",
      " 138.8847\n",
      "[torch.FloatTensor of size 1]\n",
      ", \n",
      " 131.3206\n",
      "[torch.FloatTensor of size 1]\n",
      ", \n",
      " 124.4900\n",
      "[torch.FloatTensor of size 1]\n",
      ", \n",
      " 118.2771\n",
      "[torch.FloatTensor of size 1]\n",
      ", \n",
      " 112.5920\n",
      "[torch.FloatTensor of size 1]\n",
      ", \n",
      " 107.3639\n",
      "[torch.FloatTensor of size 1]\n",
      ", \n",
      " 102.5357\n",
      "[torch.FloatTensor of size 1]\n",
      ", \n",
      " 98.0598\n",
      "[torch.FloatTensor of size 1]\n",
      ", \n",
      " 93.8957\n",
      "[torch.FloatTensor of size 1]\n",
      ", \n",
      " 90.0086\n",
      "[torch.FloatTensor of size 1]\n",
      ", \n",
      " 86.3682\n",
      "[torch.FloatTensor of size 1]\n",
      ", \n",
      " 82.9480\n",
      "[torch.FloatTensor of size 1]\n",
      ", \n",
      " 79.7254\n",
      "[torch.FloatTensor of size 1]\n",
      ", \n",
      " 76.6805\n",
      "[torch.FloatTensor of size 1]\n",
      ", \n",
      " 73.7959\n",
      "[torch.FloatTensor of size 1]\n",
      ", \n",
      " 71.0569\n",
      "[torch.FloatTensor of size 1]\n",
      ", \n",
      " 68.4506\n",
      "[torch.FloatTensor of size 1]\n",
      ", \n",
      " 65.9658\n",
      "[torch.FloatTensor of size 1]\n",
      ", \n",
      " 63.5928\n",
      "[torch.FloatTensor of size 1]\n",
      ", \n",
      " 61.3235\n",
      "[torch.FloatTensor of size 1]\n",
      ", \n",
      " 59.1505\n",
      "[torch.FloatTensor of size 1]\n",
      ", \n",
      " 57.0675\n",
      "[torch.FloatTensor of size 1]\n",
      ", \n",
      " 55.0692\n",
      "[torch.FloatTensor of size 1]\n",
      ", \n",
      " 53.1507\n",
      "[torch.FloatTensor of size 1]\n",
      ", \n",
      " 51.3078\n",
      "[torch.FloatTensor of size 1]\n",
      ", \n",
      " 49.5365\n",
      "[torch.FloatTensor of size 1]\n",
      ", \n",
      " 47.8333\n",
      "[torch.FloatTensor of size 1]\n",
      ", \n",
      " 46.1949\n",
      "[torch.FloatTensor of size 1]\n",
      ", \n",
      " 44.6183\n",
      "[torch.FloatTensor of size 1]\n",
      ", \n",
      " 43.1007\n",
      "[torch.FloatTensor of size 1]\n",
      ", \n",
      " 41.6395\n",
      "[torch.FloatTensor of size 1]\n",
      ", \n",
      " 40.2325\n",
      "[torch.FloatTensor of size 1]\n",
      ", \n",
      " 38.8778\n",
      "[torch.FloatTensor of size 1]\n",
      ", \n",
      " 37.5738\n",
      "[torch.FloatTensor of size 1]\n",
      ", \n",
      " 36.3191\n",
      "[torch.FloatTensor of size 1]\n",
      ", \n",
      " 35.1127\n",
      "[torch.FloatTensor of size 1]\n",
      ", \n",
      " 33.9534\n",
      "[torch.FloatTensor of size 1]\n",
      ", \n",
      " 32.8404\n",
      "[torch.FloatTensor of size 1]\n",
      ", \n",
      " 31.7726\n",
      "[torch.FloatTensor of size 1]\n",
      ", \n",
      " 30.7488\n",
      "[torch.FloatTensor of size 1]\n",
      ", \n",
      " 29.7676\n",
      "[torch.FloatTensor of size 1]\n",
      ", \n",
      " 28.8275\n",
      "[torch.FloatTensor of size 1]\n",
      ", \n",
      " 27.9267\n",
      "[torch.FloatTensor of size 1]\n",
      ", \n",
      " 27.0635\n",
      "[torch.FloatTensor of size 1]\n",
      ", \n",
      " 26.2359\n",
      "[torch.FloatTensor of size 1]\n",
      ", \n",
      " 25.4424\n",
      "[torch.FloatTensor of size 1]\n",
      ", \n",
      " 24.6810\n",
      "[torch.FloatTensor of size 1]\n",
      ", \n",
      " 23.9502\n",
      "[torch.FloatTensor of size 1]\n",
      ", \n",
      " 23.2485\n",
      "[torch.FloatTensor of size 1]\n",
      ", \n",
      " 22.5745\n",
      "[torch.FloatTensor of size 1]\n",
      ", \n",
      " 21.9267\n",
      "[torch.FloatTensor of size 1]\n",
      ", \n",
      " 21.3040\n",
      "[torch.FloatTensor of size 1]\n",
      ", \n",
      " 20.7053\n",
      "[torch.FloatTensor of size 1]\n",
      ", \n",
      " 20.1294\n",
      "[torch.FloatTensor of size 1]\n",
      ", \n",
      " 19.5754\n",
      "[torch.FloatTensor of size 1]\n",
      ", \n",
      " 19.0423\n",
      "[torch.FloatTensor of size 1]\n",
      ", \n",
      " 18.5292\n",
      "[torch.FloatTensor of size 1]\n",
      ", \n",
      " 18.0353\n",
      "[torch.FloatTensor of size 1]\n",
      ", \n",
      " 17.5598\n",
      "[torch.FloatTensor of size 1]\n",
      ", \n",
      " 17.1019\n",
      "[torch.FloatTensor of size 1]\n",
      ", \n",
      " 16.6610\n",
      "[torch.FloatTensor of size 1]\n",
      ", \n",
      " 16.2362\n",
      "[torch.FloatTensor of size 1]\n",
      ", \n",
      " 15.8270\n",
      "[torch.FloatTensor of size 1]\n",
      ", \n",
      " 15.4326\n",
      "[torch.FloatTensor of size 1]\n",
      ", \n",
      " 15.0526\n",
      "[torch.FloatTensor of size 1]\n",
      ", \n",
      " 14.6863\n",
      "[torch.FloatTensor of size 1]\n",
      ", \n",
      " 14.3331\n",
      "[torch.FloatTensor of size 1]\n",
      ", \n",
      " 13.9925\n",
      "[torch.FloatTensor of size 1]\n",
      ", \n",
      " 13.6640\n",
      "[torch.FloatTensor of size 1]\n",
      ", \n",
      " 13.3471\n",
      "[torch.FloatTensor of size 1]\n",
      ", \n",
      " 13.0413\n",
      "[torch.FloatTensor of size 1]\n",
      ", \n",
      " 12.7462\n",
      "[torch.FloatTensor of size 1]\n",
      ", \n",
      " 12.4612\n",
      "[torch.FloatTensor of size 1]\n",
      ", \n",
      " 12.1861\n",
      "[torch.FloatTensor of size 1]\n",
      ", \n",
      " 11.9203\n",
      "[torch.FloatTensor of size 1]\n",
      ", \n",
      " 11.6636\n",
      "[torch.FloatTensor of size 1]\n",
      ", \n",
      " 11.4154\n",
      "[torch.FloatTensor of size 1]\n",
      ", \n",
      " 11.1755\n",
      "[torch.FloatTensor of size 1]\n",
      ", \n",
      " 10.9436\n",
      "[torch.FloatTensor of size 1]\n",
      ", \n",
      " 10.7193\n",
      "[torch.FloatTensor of size 1]\n",
      ", \n",
      " 10.5022\n",
      "[torch.FloatTensor of size 1]\n",
      ", \n",
      " 10.2922\n",
      "[torch.FloatTensor of size 1]\n",
      ", \n",
      " 10.0889\n",
      "[torch.FloatTensor of size 1]\n",
      ", \n",
      " 9.8921\n",
      "[torch.FloatTensor of size 1]\n",
      ", \n",
      " 9.7014\n",
      "[torch.FloatTensor of size 1]\n",
      ", \n",
      " 9.5167\n",
      "[torch.FloatTensor of size 1]\n",
      ", \n",
      " 9.3376\n",
      "[torch.FloatTensor of size 1]\n",
      ", \n",
      " 9.1641\n",
      "[torch.FloatTensor of size 1]\n",
      ", \n",
      " 8.9958\n",
      "[torch.FloatTensor of size 1]\n",
      ", \n",
      " 8.8326\n",
      "[torch.FloatTensor of size 1]\n",
      ", \n",
      " 8.6743\n",
      "[torch.FloatTensor of size 1]\n",
      "]\n"
     ]
    }
   ],
   "source": [
    "print(losses)"
   ]
  },
  {
   "cell_type": "code",
   "execution_count": 76,
   "metadata": {
    "collapsed": true
   },
   "outputs": [],
   "source": [
    "## LSTMs"
   ]
  },
  {
   "cell_type": "code",
   "execution_count": 84,
   "metadata": {},
   "outputs": [
    {
     "data": {
      "text/plain": [
       "<torch._C.Generator at 0x7efd9d7a2270>"
      ]
     },
     "execution_count": 84,
     "metadata": {},
     "output_type": "execute_result"
    }
   ],
   "source": [
    "import torch\n",
    "import torch.autograd as autograd\n",
    "import torch.nn as nn\n",
    "import torch.nn.functional as F\n",
    "import torch.optim as optim\n",
    "\n",
    "torch.manual_seed(1)"
   ]
  },
  {
   "cell_type": "code",
   "execution_count": 88,
   "metadata": {},
   "outputs": [
    {
     "name": "stdout",
     "output_type": "stream",
     "text": [
      "(Variable containing:\n",
      "(0 ,.,.) = \n",
      " -0.3950  0.0929  0.0992\n",
      "[torch.FloatTensor of size 1x1x3]\n",
      ", Variable containing:\n",
      "(0 ,.,.) = \n",
      " -0.7724  0.2366  0.1357\n",
      "[torch.FloatTensor of size 1x1x3]\n",
      ")\n",
      "(Variable containing:\n",
      "(0 ,.,.) = \n",
      "1.00000e-02 *\n",
      "  -8.1686  6.2331  5.4420\n",
      "[torch.FloatTensor of size 1x1x3]\n",
      ", Variable containing:\n",
      "(0 ,.,.) = \n",
      " -0.3853  0.2172  0.2259\n",
      "[torch.FloatTensor of size 1x1x3]\n",
      ")\n",
      "(Variable containing:\n",
      "(0 ,.,.) = \n",
      " -0.1209  0.1152 -0.0173\n",
      "[torch.FloatTensor of size 1x1x3]\n",
      ", Variable containing:\n",
      "(0 ,.,.) = \n",
      " -0.3142  0.5087 -0.0371\n",
      "[torch.FloatTensor of size 1x1x3]\n",
      ")\n",
      "(Variable containing:\n",
      "(0 ,.,.) = \n",
      " -0.1254  0.1470 -0.2288\n",
      "[torch.FloatTensor of size 1x1x3]\n",
      ", Variable containing:\n",
      "(0 ,.,.) = \n",
      " -0.2096  0.6587 -0.3916\n",
      "[torch.FloatTensor of size 1x1x3]\n",
      ")\n",
      "(Variable containing:\n",
      "(0 ,.,.) = \n",
      " -0.0935  0.1743  0.1439\n",
      "[torch.FloatTensor of size 1x1x3]\n",
      ", Variable containing:\n",
      "(0 ,.,.) = \n",
      " -0.2359  0.4571  0.3482\n",
      "[torch.FloatTensor of size 1x1x3]\n",
      ")\n"
     ]
    }
   ],
   "source": [
    "lstm = nn.LSTM(3, 3)\n",
    "inputs = [autograd.Variable(torch.randn((1, 3))) for _ in range(5)]\n",
    "hidden = (autograd.Variable(torch.randn(1, 1, 3)), \n",
    "          autograd.Variable(torch.randn(1, 1, 3)))\n",
    "\n",
    "for i in inputs:\n",
    "    out, hidden = lstm(i.view(1, 1, -1), hidden)\n",
    "    print(hidden)"
   ]
  },
  {
   "cell_type": "code",
   "execution_count": 87,
   "metadata": {},
   "outputs": [
    {
     "data": {
      "text/plain": [
       "(Variable containing:\n",
       " (0 ,.,.) = \n",
       "   0.0202  0.0141  0.3499\n",
       " [torch.FloatTensor of size 1x1x3], Variable containing:\n",
       " (0 ,.,.) = \n",
       "   0.0395  0.0313  0.7842\n",
       " [torch.FloatTensor of size 1x1x3])"
      ]
     },
     "execution_count": 87,
     "metadata": {},
     "output_type": "execute_result"
    }
   ],
   "source": [
    "hidden"
   ]
  },
  {
   "cell_type": "code",
   "execution_count": null,
   "metadata": {
    "collapsed": true
   },
   "outputs": [],
   "source": []
  },
  {
   "cell_type": "code",
   "execution_count": null,
   "metadata": {
    "collapsed": true
   },
   "outputs": [],
   "source": []
  },
  {
   "cell_type": "code",
   "execution_count": null,
   "metadata": {
    "collapsed": true
   },
   "outputs": [],
   "source": []
  },
  {
   "cell_type": "code",
   "execution_count": null,
   "metadata": {
    "collapsed": true
   },
   "outputs": [],
   "source": []
  },
  {
   "cell_type": "code",
   "execution_count": null,
   "metadata": {
    "collapsed": true
   },
   "outputs": [],
   "source": []
  },
  {
   "cell_type": "code",
   "execution_count": null,
   "metadata": {
    "collapsed": true
   },
   "outputs": [],
   "source": []
  },
  {
   "cell_type": "code",
   "execution_count": null,
   "metadata": {
    "collapsed": true
   },
   "outputs": [],
   "source": []
  },
  {
   "cell_type": "code",
   "execution_count": null,
   "metadata": {
    "collapsed": true
   },
   "outputs": [],
   "source": []
  },
  {
   "cell_type": "code",
   "execution_count": null,
   "metadata": {
    "collapsed": true
   },
   "outputs": [],
   "source": []
  },
  {
   "cell_type": "code",
   "execution_count": null,
   "metadata": {
    "collapsed": true
   },
   "outputs": [],
   "source": []
  }
 ],
 "metadata": {
  "kernelspec": {
   "display_name": "Python 3",
   "language": "python",
   "name": "python3"
  },
  "language_info": {
   "codemirror_mode": {
    "name": "ipython",
    "version": 3
   },
   "file_extension": ".py",
   "mimetype": "text/x-python",
   "name": "python",
   "nbconvert_exporter": "python",
   "pygments_lexer": "ipython3",
   "version": "3.6.1+"
  }
 },
 "nbformat": 4,
 "nbformat_minor": 2
}
